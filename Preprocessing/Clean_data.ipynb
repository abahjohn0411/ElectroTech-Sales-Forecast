{
 "cells": [
  {
   "cell_type": "code",
   "execution_count": 7,
   "id": "884a5091",
   "metadata": {},
   "outputs": [],
   "source": [
    "import pandas as pd\n",
    "import numpy as np\n",
    "import matplotlib.pyplot as plt\n",
    "import seaborn as sns\n",
    "\n",
    "\n",
    "pd.set_option('display.max_columns', None)"
   ]
  },
  {
   "cell_type": "code",
   "execution_count": 8,
   "id": "0bdd7031",
   "metadata": {},
   "outputs": [],
   "source": [
    "df = pd. read_csv(r'C:\\Users\\ASUS PC\\Desktop\\AMDARI INTERNSHIP\\Amdari\\ElectroTech-Sales-Forecast\\ElectroTech Forecasting Data.csv')"
   ]
  },
  {
   "cell_type": "code",
   "execution_count": 9,
   "id": "fff86cf5",
   "metadata": {},
   "outputs": [
    {
     "name": "stdout",
     "output_type": "stream",
     "text": [
      "Rows: 136193, Columns: 11\n"
     ]
    }
   ],
   "source": [
    "#Understand the structure of the data\n",
    "print(f'Rows: {df.shape[0]}, Columns: {df.shape[1]}')"
   ]
  },
  {
   "cell_type": "code",
   "execution_count": 10,
   "id": "f26a827d",
   "metadata": {},
   "outputs": [
    {
     "name": "stdout",
     "output_type": "stream",
     "text": [
      "   Product_ID    Category   Price        Date  Season  Market_Trend_Index  \\\n",
      "0        1103      Laptop  105.32  2009-01-01  Winter           -1.859160   \n",
      "1        1436      Tablet  145.55  2009-01-01  Winter           -0.345587   \n",
      "2        1271  Smartphone   97.82  2009-01-01  Winter           -0.384738   \n",
      "3        1107      Laptop   64.00  2009-01-01  Winter            0.716763   \n",
      "4        1072      Tablet   67.83  2009-01-01  Winter           -0.242074   \n",
      "\n",
      "   Competitor_Activity_Score  Consumer_Confidence_Index  \\\n",
      "0                   0.546694                  84.680465   \n",
      "1                   0.940428                  42.919288   \n",
      "2                   0.751155                  55.191268   \n",
      "3                   0.125939                  88.746454   \n",
      "4                  -0.412932                  67.947536   \n",
      "\n",
      "  Product_Specification_1 Product_Specification_2  Sales_Volume  \n",
      "0                  Spec_C       Long-Battery-Life            49  \n",
      "1                  Spec_C             Lightweight            69  \n",
      "2                  Spec_B             Lightweight            50  \n",
      "3                  Spec_B         High-Resolution            28  \n",
      "4                  Spec_A       Long-Battery-Life            81  \n"
     ]
    }
   ],
   "source": [
    "#quick overview of dataset\n",
    "print(df.head(5))"
   ]
  },
  {
   "cell_type": "code",
   "execution_count": 11,
   "id": "67c830db",
   "metadata": {},
   "outputs": [
    {
     "name": "stdout",
     "output_type": "stream",
     "text": [
      "<class 'pandas.core.frame.DataFrame'>\n",
      "RangeIndex: 136193 entries, 0 to 136192\n",
      "Data columns (total 11 columns):\n",
      " #   Column                     Non-Null Count   Dtype  \n",
      "---  ------                     --------------   -----  \n",
      " 0   Product_ID                 136193 non-null  int64  \n",
      " 1   Category                   136193 non-null  object \n",
      " 2   Price                      136193 non-null  float64\n",
      " 3   Date                       136193 non-null  object \n",
      " 4   Season                     136193 non-null  object \n",
      " 5   Market_Trend_Index         136193 non-null  float64\n",
      " 6   Competitor_Activity_Score  136193 non-null  float64\n",
      " 7   Consumer_Confidence_Index  136193 non-null  float64\n",
      " 8   Product_Specification_1    136193 non-null  object \n",
      " 9   Product_Specification_2    136193 non-null  object \n",
      " 10  Sales_Volume               136193 non-null  int64  \n",
      "dtypes: float64(4), int64(2), object(5)\n",
      "memory usage: 11.4+ MB\n",
      "None\n"
     ]
    }
   ],
   "source": [
    "#Summary of dataset\n",
    "print(df.info())"
   ]
  },
  {
   "cell_type": "code",
   "execution_count": 12,
   "id": "374ddef4",
   "metadata": {},
   "outputs": [
    {
     "name": "stdout",
     "output_type": "stream",
     "text": [
      "Series([], dtype: int64)\n"
     ]
    }
   ],
   "source": [
    "#handle missing values\n",
    "missing_values = df.isnull().sum()\n",
    "missing_values = missing_values[missing_values>0].sort_values(ascending=False)\n",
    "print(missing_values)"
   ]
  },
  {
   "cell_type": "code",
   "execution_count": 19,
   "id": "28344fdb",
   "metadata": {},
   "outputs": [
    {
     "name": "stdout",
     "output_type": "stream",
     "text": [
      "          Product_ID          Price  Market_Trend_Index  \\\n",
      "count  136193.000000  136193.000000       136193.000000   \n",
      "mean     1347.703384     106.812513           -0.000277   \n",
      "std       200.341518      36.419229            1.009105   \n",
      "min      1001.000000      40.510000           -4.067055   \n",
      "25%      1174.000000      75.560000           -0.683015   \n",
      "50%      1348.000000     104.710000            0.001093   \n",
      "75%      1522.000000     138.310000            0.680506   \n",
      "max      1694.000000     181.800000            4.728391   \n",
      "\n",
      "       Competitor_Activity_Score  Consumer_Confidence_Index   Sales_Volume  \n",
      "count              136193.000000              136193.000000  136193.000000  \n",
      "mean                   -0.000656                  70.013109     122.305140  \n",
      "std                     1.001551                  14.733722      54.320849  \n",
      "min                    -4.181590                  40.044830       6.000000  \n",
      "25%                    -0.676466                  57.521063      81.000000  \n",
      "50%                     0.000555                  70.022715     119.000000  \n",
      "75%                     0.674953                  82.569582     161.000000  \n",
      "max                     4.661979                  99.926291     306.000000  \n"
     ]
    }
   ],
   "source": [
    "#quick stats of dataset\n",
    "print(df.describe(exclude='object'))"
   ]
  },
  {
   "cell_type": "code",
   "execution_count": 14,
   "id": "d18724fa",
   "metadata": {},
   "outputs": [
    {
     "name": "stdout",
     "output_type": "stream",
     "text": [
      "False\n"
     ]
    }
   ],
   "source": [
    "#check for duplicated values\n",
    "print(df.duplicated().any())"
   ]
  }
 ],
 "metadata": {
  "kernelspec": {
   "display_name": "venv",
   "language": "python",
   "name": "python3"
  },
  "language_info": {
   "codemirror_mode": {
    "name": "ipython",
    "version": 3
   },
   "file_extension": ".py",
   "mimetype": "text/x-python",
   "name": "python",
   "nbconvert_exporter": "python",
   "pygments_lexer": "ipython3",
   "version": "3.12.7"
  }
 },
 "nbformat": 4,
 "nbformat_minor": 5
}
